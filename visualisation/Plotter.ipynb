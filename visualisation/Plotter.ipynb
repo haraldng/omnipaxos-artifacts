{
 "cells": [
  {
   "cell_type": "markdown",
   "id": "41afc0d6",
   "metadata": {},
   "source": [
    "Plotting for Omni-Paxos\n",
    "===========================================\n",
    "\n",
    "This notebook contains all the code for plotting the results. You can avoid most of the helper functions and nagivate directly to cells that will plot figures using the list below. To plot a figure, you will need to insert the path to the results directory.\n",
    "\n",
    "- Partial Connectivity Experiments [E1]:\n",
    "    - [Quorum-loss scenario](#quorumloss)\n",
    "    - [Constrained scenario](#constrained)\n",
    "    - [Chained scenario](#chained)\n",
    "    \n",
    "- Normal Experiments [E2-E4]: \n",
    "    - [Normal LAN (E2)](#normal-lan)\n",
    "    - [Normal WAN \\[E3, E4\\]](#normal-wan)\n",
    "    \n",
    "- Reconfiguration Experiments [E5]:\n",
    "    - [Single, CP=500](#reconfig-single-500)\n",
    "    - [Single, CP=50k](#reconfig-single-50k)\n",
    "    - [Majority, CP=50k](#reconfig-majority-50k)"
   ]
  },
  {
   "cell_type": "markdown",
   "id": "86fcbf96",
   "metadata": {},
   "source": [
    "### Dependencies"
   ]
  },
  {
   "cell_type": "code",
   "execution_count": 1,
   "id": "2857ff49",
   "metadata": {},
   "outputs": [],
   "source": [
    "%matplotlib inline\n",
    "\n",
    "# Importing the necessary libraries and modules\n",
    "import matplotlib.pyplot as plt\n",
    "import matplotlib.patches as mpatches\n",
    "import numpy as np\n",
    "import os\n",
    "import scipy.stats as st\n",
    "from IPython.display import Image"
   ]
  },
  {
   "cell_type": "markdown",
   "id": "26f78f76",
   "metadata": {},
   "source": [
    "### General styles and helper functions"
   ]
  },
  {
   "cell_type": "code",
   "execution_count": 2,
   "id": "7a917770",
   "metadata": {},
   "outputs": [],
   "source": [
    "def format_k(y, _):\n",
    "    if y > 1000 or y < -1000:\n",
    "        return \"{}k\".format(int(y/1000))\n",
    "    else:\n",
    "        return int(y)\n",
    "\n",
    "def format_time(seconds, _):\n",
    "    \"\"\"Formats a timedelta duration to [N days] %M:%S format\"\"\"\n",
    "    secs_in_a_min = 60\n",
    "\n",
    "    minutes, seconds = divmod(seconds, secs_in_a_min)\n",
    "\n",
    "    time_fmt = \"{:d}:{:02d}\".format(minutes, seconds)\n",
    "    return time_fmt"
   ]
  },
  {
   "cell_type": "code",
   "execution_count": 3,
   "id": "7334ac52",
   "metadata": {},
   "outputs": [],
   "source": [
    "colors = {\n",
    "  \"Omni-Paxos\": \"dodgerblue\",\n",
    "  \"Omni-Paxos, n=3\": \"dodgerblue\",\n",
    "  \"Omni-Paxos, n=5\": \"midnightblue\", \n",
    "  \"Omni-Paxos replace follower\": \"dodgerblue\",\n",
    "  \"Omni-Paxos replace leader\": \"midnightblue\",\n",
    "  \"Omni-Paxos 50ms\": \"dodgerblue\",\n",
    "  \"Omni-Paxos 500ms\": \"lightskyblue\",\n",
    "  \"Omni-Paxos 5000ms\": \"royalblue\", \n",
    "  \"Omni-Paxos 1 min\": \"dodgerblue\",\n",
    "  \"Omni-Paxos 2 min\": \"lightskyblue\",\n",
    "  \"Omni-Paxos 4 min\": \"royalblue\",\n",
    "\n",
    "  \"Raft\": \"orange\",\n",
    "  \"Raft replace follower\": \"orange\",\n",
    "  \"Raft replace leader\": \"crimson\",\n",
    "  \"Raft, n=3\": \"orange\",\n",
    "  \"Raft, n=5\": \"crimson\",\n",
    "  \"Raft 1 min\": \"silver\",\n",
    "  \"Raft 2 min\": \"gray\",\n",
    "  \"Raft 4 min\": \"black\",\n",
    "  \"Raft 50ms\": \"silver\",\n",
    "  \"Raft 500ms\": \"gray\",\n",
    "  \"Raft 5000ms\": \"black\",\n",
    "\n",
    "  \"Raft PV+CQ\": \"crimson\",\n",
    "  \"Raft PV+CQ 1 min\": \"gold\",\n",
    "  \"Raft PV+CQ 2 min\": \"orange\",\n",
    "  \"Raft PV+CQ 4 min\": \"crimson\",  \n",
    "  \"Raft PV+CQ 50ms\": \"gold\",\n",
    "  \"Raft PV+CQ 500ms\": \"orange\",\n",
    "  \"Raft PV+CQ 5000ms\": \"crimson\",\n",
    "\n",
    "  \"Multi-Paxos, n=3\": \"lime\",\n",
    "  \"Multi-Paxos, n=5\": \"darkgreen\",\n",
    "  \"Multi-Paxos\": \"blueviolet\",\n",
    "\n",
    "  \"Multi-Paxos 50ms\": \"pink\",\n",
    "  \"Multi-Paxos 500ms\": \"mediumorchid\",\n",
    "  \"Multi-Paxos 5000ms\": \"purple\",\n",
    "  \"Multi-Paxos 1 min\": \"pink\",\n",
    "  \"Multi-Paxos 2 min\": \"mediumorchid\",\n",
    "  \"Multi-Paxos 4 min\": \"purple\",\n",
    "\n",
    "  \"VR\": \"lime\",\n",
    "  \"VR 50ms\": \"palegreen\",\n",
    "  \"VR 500ms\": \"limegreen\",\n",
    "  \"VR 5000ms\": \"darkgreen\",\n",
    "  \"VR 1 min\": \"palegreen\",\n",
    "  \"VR 2 min\": \"limegreen\",\n",
    "  \"VR 4 min\": \"darkgreen\",\n",
    "}\n",
    "\n",
    "linestyles = {\n",
    "  \"Omni-Paxos\": \"solid\",\n",
    "  \"Raft\": \"dashdot\",\n",
    "  \"Raft PV+CQ\": \"dashdot\",\n",
    "  \"VR\": \"dotted\",\n",
    "  \"Multi-Paxos\": \"dashed\"\n",
    "}\n",
    "\n",
    "textures = {\n",
    "  \"50ms\" : '\\\\',\n",
    "  \"500ms\": '.',\n",
    "  \"5000ms\": ''\n",
    "  #patterns =['\\\\', '-', '/','+','//']\n",
    "}\n",
    "\n",
    "markers = {\n",
    "  # deadlock plots\n",
    "  \"1 min\": \".\",\n",
    "  \"2 min\": \"v\",\n",
    "  \"4 min\": \"s\",\n",
    "  \"PV+CQ 1 min\": \".\",\n",
    "  \"PV+CQ 2 min\": \"v\",\n",
    "  \"PV+CQ 4 min\": \"s\",\n",
    "  # reconfig plots\n",
    "  \"replace follower\": \".\",\n",
    "  \"replace leader\": \"v\",\n",
    "  # periodic plots\n",
    "  \"Omni-Paxos\": \".\",\n",
    "  \"Raft\": \"v\" ,\n",
    "  \"Raft PV+CQ\": \"^\",\n",
    "  # normal plots\n",
    "  \" n=3\": \".\",\n",
    "  \" n=5\": \"v\",\n",
    "  # chained\n",
    "  \"1 min\" : 'v',\n",
    "  \"2 min\": 'o',\n",
    "  \"4 min\": 's',\n",
    "  # chained (updated)\n",
    "  '50ms' : 'v',\n",
    "  \"500ms\": 'o',\n",
    "  \"5000ms\": 's'  \n",
    "}"
   ]
  },
  {
   "cell_type": "markdown",
   "id": "0468277e",
   "metadata": {},
   "source": [
    "# Partial Connectivity <a id='another_cell'></a>\n",
    "\n",
    "### Style and helper functions"
   ]
  },
  {
   "cell_type": "code",
   "execution_count": 4,
   "id": "abc32f97",
   "metadata": {},
   "outputs": [
    {
     "data": {
      "text/plain": [
       "<Figure size 640x480 with 0 Axes>"
      ]
     },
     "execution_count": 4,
     "metadata": {},
     "output_type": "execute_result"
    },
    {
     "data": {
      "text/plain": [
       "<Figure size 640x480 with 0 Axes>"
      ]
     },
     "metadata": {},
     "output_type": "display_data"
    }
   ],
   "source": [
    "BAR_WIDTH= 1\n",
    "BAR_DIST = BAR_WIDTH\n",
    "BASE = 4\n",
    "GROUP_DIST = 10\n",
    "\n",
    "TIMEOUTS = [\"50ms\",\"500ms\",\"5000ms\"]\n",
    "DURATIONS = [60, 120, 240]\n",
    "\n",
    "plt.figure()"
   ]
  },
  {
   "cell_type": "code",
   "execution_count": 5,
   "id": "1b07f5f7",
   "metadata": {},
   "outputs": [],
   "source": [
    "def ci_init():\n",
    "    return [(0,0) for _ in range(len(DURATIONS))]"
   ]
  },
  {
   "cell_type": "code",
   "execution_count": 6,
   "id": "f1873bdb",
   "metadata": {},
   "outputs": [],
   "source": [
    "# Dictionary to help structure the results to be plotted\n",
    "def get_empty_dict():\n",
    "    return {\n",
    "        'paxos_1min' : (np.zeros(3), ci_init()),\n",
    "        'raft_1min' : (np.zeros(3), ci_init()),\n",
    "        'raft_pv_qc_1min' : (np.zeros(3), ci_init()),\n",
    "        'vr_1min' : (np.zeros(3), ci_init()),\n",
    "        'multi-paxos_1min' : (np.zeros(3), ci_init()),\n",
    "\n",
    "        'paxos_2min' : (np.zeros(3), ci_init()),\n",
    "        'raft_2min' : (np.zeros(3), ci_init()),\n",
    "        'raft_pv_qc_2min' : (np.zeros(3), ci_init()),\n",
    "        'vr_2min' : (np.zeros(3), ci_init()),\n",
    "        'multi-paxos_2min' : (np.zeros(3), ci_init()),\n",
    "\n",
    "        'paxos_4min' : (np.zeros(3), ci_init()),\n",
    "        'raft_4min' : (np.zeros(3), ci_init()),\n",
    "        'raft_pv_qc_4min' : (np.zeros(3), ci_init()),\n",
    "        'vr_4min' : (np.zeros(3), ci_init()),\n",
    "        'multi-paxos_4min' : (np.zeros(3), ci_init()),\n",
    "    }\n",
    "\n",
    "# The array for each entry in the dictionary should be sorted based on election timeout.\n",
    "def get_timeout_idx(s):\n",
    "    if s == '50ms':\n",
    "        return 0\n",
    "    elif s == '500ms':\n",
    "        return 1\n",
    "    elif s == '5000ms':\n",
    "        return 2\n",
    "    else:\n",
    "        return -1\n",
    "    \n",
    "def get_dict_key(algo, scenario):\n",
    "    split = scenario.split('-')\n",
    "    duration = int(split[1])\n",
    "    duration_min = int(duration/60)\n",
    "    return \"{}_{}min\".format(algo, duration_min)"
   ]
  },
  {
   "cell_type": "code",
   "execution_count": 7,
   "id": "dcd3525e",
   "metadata": {},
   "outputs": [],
   "source": [
    "# calculate 95% confidence interval using student-t's distribution\n",
    "def student_t_ci(data):\n",
    "    return st.t.interval(alpha=0.95, df=len(data)-1,loc=np.mean(data),scale=st.sem(data))\n",
    "\n",
    "def legend_without_duplicate_labels(ax):\n",
    "    handles, labels = ax.get_legend_handles_labels()\n",
    "    unique = [(h, l) for i, (h, l) in enumerate(zip(handles, labels)) if l not in labels[:i]]\n",
    "    ax.legend(*zip(*unique))"
   ]
  },
  {
   "cell_type": "code",
   "execution_count": 8,
   "id": "feadb18f",
   "metadata": {},
   "outputs": [],
   "source": [
    "# read results and insert into dict\n",
    "def read_dir(d, decided, subdir, scenario, reverse):\n",
    "    all_bars = get_empty_dict()\n",
    "    d = '{}/{}'.format(d, subdir)\n",
    "    data_files = [f for f in os.listdir(d) if f.endswith('.data') and scenario in f]\n",
    "    data_files.sort()\n",
    "    print(\"Reading: {} files in {}\".format(len(data_files), d))\n",
    "    for filename in data_files :\n",
    "        f = open(d + \"/\" + filename, 'r')\n",
    "        #print(\"Reading\", filename, \"...\")\n",
    "        # paxos,5,500,5min,off,none,constrained_election-240,500ms\n",
    "        split = filename.split(',')\n",
    "        algo = split[0]\n",
    "        scenario = split[6]\n",
    "        timeout = split[7].split('.')[0]\n",
    "        all_y = []\n",
    "        for line in f:\n",
    "            if decided:\n",
    "                y = float(line.split('|')[0])\n",
    "            else:\n",
    "                y = float(line)\n",
    "            all_y.append(y)\n",
    "        mean = np.mean(all_y)\n",
    "        ci = student_t_ci(all_y)\n",
    "        timeout_idx = get_timeout_idx(timeout)\n",
    "        bar_key = get_dict_key(algo, scenario)\n",
    "        (all_mean, all_ci) = all_bars[bar_key]\n",
    "        all_mean[timeout_idx] = mean\n",
    "        all_ci[timeout_idx] = ci\n",
    "        \n",
    "    all_1min = [(\"Omni-Paxos\", all_bars['paxos_1min']), (\"Raft\", all_bars['raft_1min']), (\"Raft PV+CQ\", all_bars['raft_pv_qc_1min']), (\"VR\", all_bars['vr_1min']), (\"Multi-Paxos\", all_bars['multi-paxos_1min'])]\n",
    "    all_2min = [(\"Omni-Paxos\", all_bars['paxos_2min']), (\"Raft\", all_bars['raft_2min']), (\"Raft PV+CQ\", all_bars['raft_pv_qc_2min']), (\"VR\", all_bars['vr_2min']), (\"Multi-Paxos\", all_bars['multi-paxos_2min'])]\n",
    "    all_4min = [(\"Omni-Paxos\", all_bars['paxos_4min']), (\"Raft\", all_bars['raft_4min']), (\"Raft PV+CQ\", all_bars['raft_pv_qc_4min']), (\"VR\", all_bars['vr_4min']), (\"Multi-Paxos\", all_bars['multi-paxos_4min'])]\n",
    "    if reverse:\n",
    "        all_1min.reverse()\n",
    "        all_2min.reverse()\n",
    "        all_4min.reverse()\n",
    "    if decided:\n",
    "        all_groups = [(\"1 min\", all_1min),(\"2 min\", all_2min),(\"4 min\", all_4min)]\n",
    "    else:\n",
    "        all_groups = [all_1min, all_2min, all_4min]\n",
    "    return all_groups"
   ]
  },
  {
   "cell_type": "code",
   "execution_count": 10,
   "id": "c85ce6ec",
   "metadata": {},
   "outputs": [],
   "source": [
    "WIDTH = 24\n",
    "HEIGHT = 5\n",
    "y_max_factor = 6\n",
    "Y_LIMITS = [50*y_max_factor, 500*y_max_factor, 5000*y_max_factor]"
   ]
  },
  {
   "cell_type": "code",
   "execution_count": 11,
   "id": "84073630",
   "metadata": {},
   "outputs": [],
   "source": [
    "def format_k_new(y, _):\n",
    "    if y >= 1000 or y <= -1000:\n",
    "        rest = int(y) % 1000\n",
    "        #print(y, rest)\n",
    "        if rest == 0:\n",
    "            return \"{}k\".format(int(y/1000))\n",
    "        else:           \n",
    "            return \"{:.1f}k\".format(float(y/1000))\n",
    "    else:\n",
    "        return int(y)\n",
    "    \n",
    "def format_mil_new(y, _):\n",
    "    if y >= 1000000 or y <= -1000000:\n",
    "        rest = int(y) % 1000000\n",
    "        #print(y, rest)\n",
    "        if rest == 0:\n",
    "            return \"{}\".format(int(y/1000000))\n",
    "        else:           \n",
    "            return \"{:.1f}\".format(float(y/1000000))\n",
    "    else:\n",
    "        return int(y)"
   ]
  },
  {
   "cell_type": "code",
   "execution_count": 12,
   "id": "7804529e",
   "metadata": {},
   "outputs": [],
   "source": [
    "# Dictionary to help structure the results to be plotted\n",
    "def get_empty_algo_dict():\n",
    "    return {\n",
    "        'paxos' : (np.zeros(len(DURATIONS)), ci_init()),\n",
    "        'raft' : (np.zeros(len(DURATIONS)), ci_init()),\n",
    "        'raft_pv_qc' : (np.zeros(len(DURATIONS)), ci_init()),\n",
    "        'vr' : (np.zeros(len(DURATIONS)), ci_init()),\n",
    "        'multi-paxos' : (np.zeros(len(DURATIONS)), ci_init()),\n",
    "    }\n",
    "\n",
    "# The array for each entry in the dictionary should be sorted based on election timeout.\n",
    "def get_duration_idx(s):\n",
    "    if s == 60:\n",
    "        return 0\n",
    "    elif s == 120:\n",
    "        return 1\n",
    "    elif s == 240:\n",
    "        return 2\n",
    "    else:\n",
    "        return -1"
   ]
  },
  {
   "cell_type": "code",
   "execution_count": 13,
   "id": "a6dfb30c",
   "metadata": {},
   "outputs": [],
   "source": [
    "# read results and insert into dict\n",
    "def read_timeout_dir(d, to_tp, subdir, scenario, timeout):\n",
    "    all_bars = get_empty_algo_dict()\n",
    "    d = '{}/{}'.format(d, subdir)\n",
    "    data_files = [f for f in os.listdir(d) if f.endswith('.data') and scenario in f and timeout in f]\n",
    "    data_files.sort()\n",
    "    print(\"Reading: {} files in {}\".format(len(data_files), d))\n",
    "    #print(all_bars)\n",
    "    for filename in data_files :\n",
    "        f = open(d + \"/\" + filename, 'r')\n",
    "        #print(\"Reading\", filename, \"...\")\n",
    "        # paxos,5,500,5min,off,none,constrained_election-240,500ms\n",
    "        split = filename.split(',')\n",
    "        algo = split[0]\n",
    "        scenario = split[6]\n",
    "        duration = int(scenario.split('-')[1])\n",
    "        all_y = []\n",
    "        for line in f:\n",
    "            if to_tp:\n",
    "                #y = float(line.split('|')[0])/duration\n",
    "                y = float(line)/duration\n",
    "            else:\n",
    "                y = float(line)\n",
    "            all_y.append(y)\n",
    "        mean = np.mean(all_y)\n",
    "        ci = student_t_ci(all_y)\n",
    "        #print(mean, ci)\n",
    "        duration_idx = get_duration_idx(duration)\n",
    "        (all_mean, all_ci) = all_bars[algo]\n",
    "        all_mean[duration_idx] = mean\n",
    "        all_ci[duration_idx] = ci\n",
    "        #print(all_bars[algo])\n",
    "    \n",
    "    a = [(\"Omni-Paxos\", all_bars['paxos']), (\"Raft\", all_bars['raft']), (\"Raft PV+CQ\", all_bars['raft_pv_qc']), (\"VR\", all_bars['vr']), (\"Multi-Paxos\", all_bars['multi-paxos'])]\n",
    "    return a"
   ]
  },
  {
   "cell_type": "code",
   "execution_count": 14,
   "id": "3828bc34",
   "metadata": {},
   "outputs": [],
   "source": [
    "def plot_all_bars_new(ax, group, y_max, y_as_million):\n",
    "    for i in range(len(group)):\n",
    "        (algo, (algo_group, ci)) = group[i]\n",
    "        base = (i+1)*BASE\n",
    "        algo_group_len = len(algo_group)\n",
    "        for j in range(algo_group_len):\n",
    "            duration_s = DURATIONS[algo_group_len - j-1]\n",
    "            #duration_s = DURATIONS[j]\n",
    "            duration = \"{} min\".format(int(duration_s/60))\n",
    "            label = \"{} {}\".format(algo, duration)\n",
    "            bar_dist = (algo_group_len - j)*BAR_DIST\n",
    "            \n",
    "            y = algo_group[algo_group_len - j - 1] # convert ms to s\n",
    "            x = base + bar_dist\n",
    "            (ci_lo, ci_hi) = ci[algo_group_len - j-1]\n",
    "\n",
    "            error_bar_color = \"black\"\n",
    "            if colors[label] == \"black\":\n",
    "                error_bar_color = \"gray\"\n",
    "            #print(label, y, ci)\n",
    "            if y > 0:\n",
    "                ax.bar(x, y, align='edge', width=BAR_WIDTH, color=colors[label], alpha=0.95, yerr=(ci_hi-ci_lo)/2, ecolor = error_bar_color, error_kw = {\"elinewidth\": 3.5}, label=algo)\n",
    "\n",
    "    #ax = plt.gca()\n",
    "    #legend_without_duplicate_labels(ax)\n",
    "    #plt.yscale(\"log\")\n",
    "    SIZE = 20\n",
    "    #plt.rc('axes', labelsize=SIZE)    # fontsize of the x and y labels\n",
    "    #plt.rc('xtick', labelsize=SIZE)    # fontsize of the tick labels\n",
    "    #plt.rc('ytick', labelsize=SIZE)    # fontsize of the tick labels\n",
    "    # Deadlock line\n",
    "    if y_max > 0:\n",
    "        ax.axhline(y = y_max - y_max/10, color = 'r', linestyle = '--', linewidth=3)\n",
    "\n",
    "    x_ticks = [15.5, 25.5, 35.5]\n",
    "    #plt.xticks(x_ticks, TIMEOUTS)\n",
    "    ax.tick_params(axis='y', which='major', labelsize=SIZE)\n",
    "    #plt.ylabel(\"Down-time (s)\", size=20)\n",
    "    #plt.xlabel(\"Partition Duration\", size=20)\n",
    "    if y_as_million:\n",
    "        ax.yaxis.set_major_formatter(format_mil_new)\n",
    "    else:\n",
    "        ax.yaxis.set_major_formatter(format_k_new)\n",
    "    \n",
    "    if y_max > 0:\n",
    "        ax.set_ylim(top=y_max, bottom=0)\n",
    "    \n",
    "    ax.tick_params(\n",
    "        axis='x',          # changes apply to the x-axis\n",
    "        which='both',      # both major and minor ticks are affected\n",
    "        bottom=False,      # ticks along the bottom edge are off\n",
    "        top=False,         # ticks along the top edge are off\n",
    "        labelbottom=False) # labels along the bottom edge are off"
   ]
  },
  {
   "cell_type": "markdown",
   "id": "b07cb943",
   "metadata": {},
   "source": [
    "## Quorum-loss Scenario [E1] <a id='quorumloss'></a>"
   ]
  },
  {
   "cell_type": "code",
   "execution_count": null,
   "id": "c4dc637e",
   "metadata": {},
   "outputs": [],
   "source": [
    "# Insert path to directory in meta_results here\n",
    "# Example:\n",
    "# QUORUMLOSS_DIR = \"/home/username/omnipaxos-artifacts/meta_results/pc\"\n",
    "QUORUMLOSS_DIR = # INSERT PATH HERE"
   ]
  },
  {
   "cell_type": "code",
   "execution_count": 49,
   "id": "a87a9f64",
   "metadata": {},
   "outputs": [
    {
     "ename": "NameError",
     "evalue": "name 'QUORUMLOSS_DIR' is not defined",
     "output_type": "error",
     "traceback": [
      "\u001b[0;31m---------------------------------------------------------------------------\u001b[0m",
      "\u001b[0;31mNameError\u001b[0m                                 Traceback (most recent call last)",
      "Cell \u001b[0;32mIn[49], line 8\u001b[0m\n\u001b[1;32m      5\u001b[0m scenario \u001b[38;5;241m=\u001b[39m \u001b[38;5;124m\"\u001b[39m\u001b[38;5;124mquorum_loss\u001b[39m\u001b[38;5;124m\"\u001b[39m\n\u001b[1;32m      7\u001b[0m \u001b[38;5;28;01mfor\u001b[39;00m (idx, (timeout, y_lim)) \u001b[38;5;129;01min\u001b[39;00m \u001b[38;5;28menumerate\u001b[39m(\u001b[38;5;28mzip\u001b[39m(TIMEOUTS, Y_LIMITS)):\n\u001b[0;32m----> 8\u001b[0m     all_same_timeout \u001b[38;5;241m=\u001b[39m read_timeout_dir(\u001b[43mQUORUMLOSS_DIR\u001b[49m, check_decided, subdir, scenario, timeout)\n\u001b[1;32m      9\u001b[0m     plot_all_bars_new(ax[idx], all_same_timeout, y_lim, \u001b[38;5;28;01mFalse\u001b[39;00m)\n\u001b[1;32m     11\u001b[0m plt\u001b[38;5;241m.\u001b[39msavefig(\u001b[38;5;124m\"\u001b[39m\u001b[38;5;132;01m{}\u001b[39;00m\u001b[38;5;124m.pdf\u001b[39m\u001b[38;5;124m\"\u001b[39m\u001b[38;5;241m.\u001b[39mformat(scenario), dpi \u001b[38;5;241m=\u001b[39m \u001b[38;5;241m600\u001b[39m, bbox_inches\u001b[38;5;241m=\u001b[39m\u001b[38;5;124m'\u001b[39m\u001b[38;5;124mtight\u001b[39m\u001b[38;5;124m'\u001b[39m)        \n",
      "\u001b[0;31mNameError\u001b[0m: name 'QUORUMLOSS_DIR' is not defined"
     ]
    },
    {
     "data": {
      "image/png": "[encoded data removed]",
      "text/plain": [
       "<Figure size 2400x500 with 3 Axes>"
      ]
     },
     "metadata": {},
     "output_type": "display_data"
    }
   ],
   "source": [
    "fig, ax = plt.subplots(1, 3)\n",
    "fig.set_size_inches(WIDTH, HEIGHT)\n",
    "check_decided = False\n",
    "subdir = \"5-500-off/longest_down_time\"\n",
    "scenario = \"quorum_loss\"\n",
    "\n",
    "for (idx, (timeout, y_lim)) in enumerate(zip(TIMEOUTS, Y_LIMITS)):\n",
    "    all_same_timeout = read_timeout_dir(QUORUMLOSS_DIR, check_decided, subdir, scenario, timeout)\n",
    "    plot_all_bars_new(ax[idx], all_same_timeout, y_lim, False)\n",
    "    \n",
    "plt.savefig(\"{}.pdf\".format(scenario), dpi = 600, bbox_inches='tight')        "
   ]
  },
  {
   "cell_type": "code",
   "execution_count": 60,
   "id": "96cfa496",
   "metadata": {
    "scrolled": false
   },
   "outputs": [
    {
     "data": {
      "image/png": "[encoded data removed]",
      "text/plain": [
       "<IPython.core.display.Image object>"
      ]
     },
     "execution_count": 60,
     "metadata": {},
     "output_type": "execute_result"
    }
   ],
   "source": [
    "Image(filename='legend.png') "
   ]
  },
  {
   "cell_type": "markdown",
   "id": "f63fd17b",
   "metadata": {},
   "source": [
    "## Constrained Scenario [E1] <a id='constrained'></a>"
   ]
  },
  {
   "cell_type": "code",
   "execution_count": 63,
   "id": "108a4017",
   "metadata": {
    "scrolled": false
   },
   "outputs": [
    {
     "ename": "SyntaxError",
     "evalue": "invalid syntax (797757114.py, line 4)",
     "output_type": "error",
     "traceback": [
      "\u001b[0;36m  Cell \u001b[0;32mIn[63], line 4\u001b[0;36m\u001b[0m\n\u001b[0;31m    CONSTRAINED_DIR = # INSERT PATH HERE\u001b[0m\n\u001b[0m                      ^\u001b[0m\n\u001b[0;31mSyntaxError\u001b[0m\u001b[0;31m:\u001b[0m invalid syntax\n"
     ]
    }
   ],
   "source": [
    "# Insert path to directory in meta_results here\n",
    "# Example:\n",
    "# CONSTRAINED_DIR = \"/home/username/omnipaxos-artifacts/meta_results/pc\"\n",
    "CONSTRAINED_DIR = # INSERT PATH HERE"
   ]
  },
  {
   "cell_type": "code",
   "execution_count": 64,
   "id": "b4b84664",
   "metadata": {
    "scrolled": false
   },
   "outputs": [
    {
     "name": "stdout",
     "output_type": "stream",
     "text": [
      "Reading: 15 files in /Users/haraldng/Library/CloudStorage/Dropbox/google-cloud/revision/qloss-constrained-summary/meta_results/5-500-off/longest_down_time\n",
      "Reading: 15 files in /Users/haraldng/Library/CloudStorage/Dropbox/google-cloud/revision/qloss-constrained-summary/meta_results/5-500-off/longest_down_time\n",
      "Reading: 15 files in /Users/haraldng/Library/CloudStorage/Dropbox/google-cloud/revision/qloss-constrained-summary/meta_results/5-500-off/longest_down_time\n"
     ]
    },
    {
     "data": {
      "image/png": "[encoded data removed]",
      "text/plain": [
       "<Figure size 2400x500 with 3 Axes>"
      ]
     },
     "metadata": {},
     "output_type": "display_data"
    }
   ],
   "source": [
    "fig, ax = plt.subplots(1, 3)\n",
    "fig.set_size_inches(WIDTH, HEIGHT)\n",
    "check_decided = False\n",
    "subdir = \"5-500-off/longest_down_time\"\n",
    "scenario = \"constrained\"\n",
    "\n",
    "for (idx, (timeout, y_lim)) in enumerate(zip(TIMEOUTS, Y_LIMITS)):\n",
    "    all_same_timeout = read_timeout_dir(CONSTRAINED_DIR, check_decided, subdir, scenario, timeout)\n",
    "    #print(all_same_timeout)\n",
    "    plot_all_bars_new(ax[idx], all_same_timeout, y_lim, False)\n",
    "    \n",
    "plt.savefig(\"{}.pdf\".format(scenario), dpi = 600, bbox_inches='tight')    "
   ]
  },
  {
   "cell_type": "code",
   "execution_count": 59,
   "id": "8944a86f",
   "metadata": {
    "scrolled": true
   },
   "outputs": [
    {
     "data": {
      "image/png": "[encoded data removed]",
      "text/plain": [
       "<IPython.core.display.Image object>"
      ]
     },
     "execution_count": 59,
     "metadata": {},
     "output_type": "execute_result"
    }
   ],
   "source": [
    "Image(filename='legend.png') "
   ]
  },
  {
   "cell_type": "code",
   "execution_count": 54,
   "id": "18b4a6b3",
   "metadata": {},
   "outputs": [],
   "source": [
    "# used to scale y-values \n",
    "MIO = 1000000\n",
    "\n",
    "def plot_all_chained(all_groups):\n",
    "    y_ticks = []\n",
    "    y_labels = []\n",
    "    for k in range(len(all_groups)):\n",
    "        #group_base = (len(all_groups) - k - 1) * GROUP_DIST\n",
    "        group_base = (k+1) * GROUP_DIST\n",
    "        (partition_duration, group) = all_groups[k]\n",
    "        for i in range(len(group)):\n",
    "            (algo, (algo_group, ci)) = group[i]\n",
    "            base = group_base % len(group) + (i+1)*BASE\n",
    "            algo_group_len = len(algo_group)\n",
    "            for j in range(algo_group_len):\n",
    "                \n",
    "                #duration_s = DURATIONS[algo_group_len - j-1]\n",
    "                #duration = \"{} min\".format(int(duration_s/60))\n",
    "                #label = \"{} {}\".format(algo, duration)\n",
    "                #bar_dist = (algo_group_len - j)*BAR_DIST\n",
    "                \n",
    "                timeout = TIMEOUTS[j]\n",
    "                duration_s = DURATIONS[k % len(DURATIONS)]\n",
    "                duration = \"{} min\".format(int(duration_s/60))\n",
    "                label = \"{} {}\".format(algo, duration)\n",
    "                #bar_dist = (j)*BAR_DIST\n",
    "                #y = algo_group[j]\n",
    "                #x = base + bar_dist\n",
    "                \n",
    "                bar_dist = (j)*BAR_DIST\n",
    "                x = algo_group[j]\n",
    "                y = base + bar_dist\n",
    "                #print(label, group_base, y)\n",
    "                (ci_lo, ci_hi) = ci[j]\n",
    "                if y > 0:\n",
    "                    #plt.errorbar(x, y/MIO, yerr = (ci_hi/MIO-ci_lo/MIO)/2, color=colors[label], elinewidth=3, zorder=1)\n",
    "                    #plt.scatter(x, y/MIO, color=colors[label], s=130, zorder=2, marker=markers[timeout], edgecolors=\"black\")\n",
    "                    plt.errorbar(x/MIO, y, xerr = (ci_hi/MIO-ci_lo/MIO)/2, color=colors[label], elinewidth=3, zorder=1)\n",
    "                    #plt.scatter(x/MIO, y, color=colors[label], s=130, zorder=2, marker='.', edgecolors=\"black\")\n",
    "                    plt.scatter(x/MIO, y, color=colors[label], s=130, zorder=2, marker=markers[timeout], edgecolors=\"black\")\n",
    "                if j == 1:\n",
    "                    y_ticks.append(y)\n",
    "                    y_labels.append(algo)\n",
    "                    \n",
    "    SIZE = 20\n",
    "    plt.rc('axes', labelsize=SIZE)    # fontsize of the x and y labels\n",
    "    plt.rc('xtick', labelsize=SIZE)    # fontsize of the tick labels\n",
    "    #plt.rc('ytick', labelsize=SIZE)    # fontsize of the tick labels\n",
    "\n",
    "    plt.yticks(y_ticks, [])\n",
    "    plt.tick_params(axis='x', which='major', labelsize=16)\n",
    "    plt.xlabel(\"Number of Decided (million ops)\", size=20)"
   ]
  },
  {
   "cell_type": "markdown",
   "id": "6939ceff",
   "metadata": {},
   "source": [
    "## Chained Scenario [E1] <a id='chained'></a>"
   ]
  },
  {
   "cell_type": "code",
   "execution_count": 55,
   "id": "53dc5071",
   "metadata": {},
   "outputs": [],
   "source": [
    "# Insert path to directory in meta_results here\n",
    "# Example:\n",
    "#CHAINED_DIR = \"/home/username/omnipaxos-artifacts/meta_results/pc\"\n",
    "CHAINED_DIR = \"/Users/haraldng/Library/CloudStorage/Dropbox/google-cloud/revision/chained-summary/meta_results\" # INSERT PATH HERE"
   ]
  },
  {
   "cell_type": "code",
   "execution_count": 23,
   "id": "d44cb24a",
   "metadata": {},
   "outputs": [
    {
     "name": "stdout",
     "output_type": "stream",
     "text": [
      "Reading: 15 files in /Users/haraldng/Library/CloudStorage/Dropbox/google-cloud/revision/chained-summary/meta_results/3-500-off/num_decided\n",
      "Reading: 15 files in /Users/haraldng/Library/CloudStorage/Dropbox/google-cloud/revision/chained-summary/meta_results/3-500-off/num_decided\n",
      "Reading: 15 files in /Users/haraldng/Library/CloudStorage/Dropbox/google-cloud/revision/chained-summary/meta_results/3-500-off/num_decided\n"
     ]
    },
    {
     "data": {
      "image/png": "[encoded data removed]",
      "text/plain": [
       "<Figure size 2375x500 with 3 Axes>"
      ]
     },
     "metadata": {},
     "output_type": "display_data"
    }
   ],
   "source": [
    "fig, ax = plt.subplots(1, 3)\n",
    "fig.set_size_inches(WIDTH-0.25, HEIGHT)\n",
    "y_as_million = True\n",
    "for (idx, (timeout, y_lim)) in enumerate(zip(TIMEOUTS, Y_LIMITS)):\n",
    "    all_same_timeout = read_timeout_dir(CHAINED_DIR, False, sub_dir, scenario, timeout)\n",
    "    plot_all_bars_new(ax[idx], all_same_timeout, 0, y_as_million)\n",
    "    ax[idx].yaxis.set_tick_params(labelleft=True)  \n",
    "\n",
    "plt.savefig(\"{}-decided.pdf\".format(scenario), dpi = 600, bbox_inches='tight')    "
   ]
  },
  {
   "cell_type": "code",
   "execution_count": 58,
   "id": "657a3107",
   "metadata": {},
   "outputs": [
    {
     "data": {
      "image/png": "[encoded data removed]",
      "text/plain": [
       "<IPython.core.display.Image object>"
      ]
     },
     "execution_count": 58,
     "metadata": {},
     "output_type": "execute_result"
    }
   ],
   "source": [
    "Image(filename='legend.png') "
   ]
  },
  {
   "cell_type": "markdown",
   "id": "61ad7d7b",
   "metadata": {},
   "source": [
    "# Normal\n",
    "\n",
    "### Helper functions"
   ]
  },
  {
   "cell_type": "code",
   "execution_count": 28,
   "id": "d0aade6a",
   "metadata": {},
   "outputs": [],
   "source": [
    "def get_empty_dict_normal():\n",
    "    return {\n",
    "        'Omni-Paxos, n=3' : (np.zeros(3), np.zeros(3)),\n",
    "        'Raft, n=3' : (np.zeros(3), np.zeros(3)),\n",
    "        'Multi-Paxos, n=3' : (np.zeros(3), np.zeros(3)),\n",
    "        \n",
    "        'Omni-Paxos, n=5' : (np.zeros(3), np.zeros(3)),\n",
    "        'Raft, n=5' : (np.zeros(3), np.zeros(3)),\n",
    "        'Multi-Paxos, n=5' : (np.zeros(3), np.zeros(3)),\n",
    "    }\n",
    "\n",
    "def get_cp_idx(cp):\n",
    "    if cp == 500:\n",
    "        return 0\n",
    "    elif cp == 5000:\n",
    "        return 1\n",
    "    else:\n",
    "        return 2\n",
    "    \n",
    "def get_dict_key_normal(algo, num_nodes):\n",
    "    if algo == \"paxos\":\n",
    "        algo = \"Omni-Paxos\"\n",
    "    elif algo == \"multi-paxos\":\n",
    "        algo = \"Multi-Paxos\"\n",
    "    elif algo == \"raft\" or algo == \"raft_pv_qc\":\n",
    "        algo = \"Raft\"\n",
    "    return \"{}, n={}\".format(algo, num_nodes)    "
   ]
  },
  {
   "cell_type": "code",
   "execution_count": 29,
   "id": "c22054b2",
   "metadata": {},
   "outputs": [],
   "source": [
    "# Duration of normal experiments is 5 minutes.\n",
    "EXP_DURATION = 5 * 60\n",
    "\n",
    "def to_tp(num_decided):\n",
    "    return num_decided/EXP_DURATION\n",
    "\n",
    "def ci_to_err_tp(ci):\n",
    "    (lo, hi) = ci\n",
    "    (lo_tp, hi_tp) = (to_tp(hi), to_tp(lo))\n",
    "    err = (hi_tp-lo_tp)/2\n",
    "    return err"
   ]
  },
  {
   "cell_type": "code",
   "execution_count": 30,
   "id": "d022474d",
   "metadata": {},
   "outputs": [],
   "source": [
    "def read_normal_dir(all_series, p, use_only_leader):\n",
    "    directories = [f.path for f in os.scandir(p) if f.is_dir()]\n",
    "    for d in directories:\n",
    "        decided_path = \"{}/num_decided\".format(d)\n",
    "        data_files = [f for f in os.listdir(decided_path) if f.endswith('.data') and 'fully_connected' in f]\n",
    "        for filename in data_files:\n",
    "            f = open(decided_path + \"/\" + filename, 'r')\n",
    "            print(\"Reading\", filename, \"...\")\n",
    "            # paxos,5,500,5min,off,none,constrained_election-240,500ms\n",
    "            dir_split = filename.split(',')\n",
    "            algo = dir_split[0]            \n",
    "            num_nodes = int(dir_split[1])\n",
    "            num_cp = int(dir_split[2])\n",
    "            all_y = []\n",
    "            for line in f:\n",
    "                leader = int(line.split('|')[2])\n",
    "                if use_only_leader == -1 or use_only_leader == leader:\n",
    "                    num_decided = float(line.split('|')[0])\n",
    "                    y = to_tp(num_decided)\n",
    "                    all_y.append(y)\n",
    "            if len(all_y) >= 1:        \n",
    "                mean = np.mean(all_y)\n",
    "                if len(all_y) > 1:\n",
    "                    ci_decided = student_t_ci(all_y)\n",
    "                    ci = ci_to_err_tp(ci_decided)\n",
    "                else:\n",
    "                    print('Could not plot CI! There was only one run with leader={}'.format(use_only_leader))\n",
    "                    ci = 0\n",
    "                cp_idx = get_cp_idx(num_cp)\n",
    "                dict_key = get_dict_key_normal(algo, num_nodes)\n",
    "                \n",
    "                (all_mean, all_ci) = all_series[dict_key]\n",
    "                all_mean[cp_idx] = mean\n",
    "                all_ci[cp_idx] = ci\n",
    "            else:\n",
    "                print('Not enough data points to plot... there was probably not enough runs with leader={}'.format(use_only_leader))\n",
    "        "
   ]
  },
  {
   "cell_type": "code",
   "execution_count": 31,
   "id": "aed0e68d",
   "metadata": {},
   "outputs": [],
   "source": [
    "x_axis = [1, 2, 3]\n",
    "num_cp = [\"500\", \"5k\", \"50k\"]\n",
    "\n",
    "def plot_normal(all_series):\n",
    "    for (label, (data, ci)) in all_series.items():\n",
    "        color = colors[label]\n",
    "        split = label.split(\",\")\n",
    "        linestyle = linestyles[split[0]]\n",
    "        marker = markers[split[1]]\n",
    "        plt.errorbar(x_axis, data, label=label, color=color, marker=marker, linestyle=linestyle, yerr=ci, capsize=8)\n",
    "        \n",
    "    ax = plt.gca()\n",
    "    ax.yaxis.set_major_formatter(format_k)\n",
    "    ax.legend(loc = \"lower right\", fontsize=13, ncol=1)\n",
    "    #ax.legend()\n",
    "    #fig.set_size_inches(15, 3.5)\n",
    "    ax.set_ylabel('Throughput (ops/s)')\n",
    "    ax.set_xlabel('Number of concurrent proposals')\n",
    "    ax.set_ylim(bottom=0)\n",
    "    plt.xticks(x_axis, num_cp)\n",
    "    #plt.yticks(np.arange(0, 175000, 25000).tolist())\n",
    "    #ax.set_ylim(bottom=0)\n"
   ]
  },
  {
   "cell_type": "markdown",
   "id": "b5554854",
   "metadata": {},
   "source": [
    "## Normal LAN [E2] <a id='normal-lan'></a>"
   ]
  },
  {
   "cell_type": "code",
   "execution_count": 32,
   "id": "e60fb598",
   "metadata": {},
   "outputs": [
    {
     "ename": "SyntaxError",
     "evalue": "invalid syntax (1485839157.py, line 4)",
     "output_type": "error",
     "traceback": [
      "\u001b[0;36m  Cell \u001b[0;32mIn[32], line 4\u001b[0;36m\u001b[0m\n\u001b[0;31m    NORMAL_LAN_DIR = # INSERT PATH HERE\u001b[0m\n\u001b[0m                     ^\u001b[0m\n\u001b[0;31mSyntaxError\u001b[0m\u001b[0;31m:\u001b[0m invalid syntax\n"
     ]
    }
   ],
   "source": [
    "# Insert path to directory in meta_results here\n",
    "# Example:\n",
    "# NORMAL_LAN_DIR = \"/home/username/omnipaxos-artifacts/meta_results/normal-lan\"\n",
    "NORMAL_LAN_DIR = # INSERT PATH HERE"
   ]
  },
  {
   "cell_type": "code",
   "execution_count": 33,
   "id": "7b1ce244",
   "metadata": {},
   "outputs": [
    {
     "ename": "NameError",
     "evalue": "name 'NORMAL_LAN_DIR' is not defined",
     "output_type": "error",
     "traceback": [
      "\u001b[0;31m---------------------------------------------------------------------------\u001b[0m",
      "\u001b[0;31mNameError\u001b[0m                                 Traceback (most recent call last)",
      "Cell \u001b[0;32mIn[33], line 4\u001b[0m\n\u001b[1;32m      2\u001b[0m any_leader \u001b[38;5;241m=\u001b[39m \u001b[38;5;241m-\u001b[39m\u001b[38;5;241m1\u001b[39m\n\u001b[1;32m      3\u001b[0m \u001b[38;5;66;03m#all_series = read_normal_dir(all_series, NORMAL_LAN_DIR, any_leader)\u001b[39;00m\n\u001b[0;32m----> 4\u001b[0m read_normal_dir(all_lan_series, \u001b[43mNORMAL_LAN_DIR\u001b[49m, any_leader)\n\u001b[1;32m      5\u001b[0m plot_normal(all_lan_series)\n",
      "\u001b[0;31mNameError\u001b[0m: name 'NORMAL_LAN_DIR' is not defined"
     ]
    }
   ],
   "source": [
    "all_lan_series = get_empty_dict_normal()\n",
    "any_leader = -1\n",
    "#all_series = read_normal_dir(all_series, NORMAL_LAN_DIR, any_leader)\n",
    "read_normal_dir(all_lan_series, NORMAL_LAN_DIR, any_leader)\n",
    "plot_normal(all_lan_series)"
   ]
  },
  {
   "cell_type": "markdown",
   "id": "22e2f8c1",
   "metadata": {},
   "source": [
    "## Normal WAN [E3, E4] <a id='normal-wan'></a>"
   ]
  },
  {
   "cell_type": "code",
   "execution_count": 34,
   "id": "28abe8da",
   "metadata": {},
   "outputs": [
    {
     "ename": "SyntaxError",
     "evalue": "invalid syntax (2664804301.py, line 5)",
     "output_type": "error",
     "traceback": [
      "\u001b[0;36m  Cell \u001b[0;32mIn[34], line 5\u001b[0;36m\u001b[0m\n\u001b[0;31m    NORMAL_WAN3_DIR = # INSERT PATH HERE\u001b[0m\n\u001b[0m                      ^\u001b[0m\n\u001b[0;31mSyntaxError\u001b[0m\u001b[0;31m:\u001b[0m invalid syntax\n"
     ]
    }
   ],
   "source": [
    "# Insert path to directory in meta_results here\n",
    "# Example:\n",
    "# NORMAL_WAN3_DIR = \"/home/username/omnipaxos-artifacts/meta_results/normal-wan3\"\n",
    "# NORMAL_WAN5_DIR = \"/home/username/omnipaxos-artifacts/meta_results/normal-wan5\"\n",
    "NORMAL_WAN3_DIR = # INSERT PATH HERE\n",
    "NORMAL_WAN5_DIR = # INSERT PATH HERE"
   ]
  },
  {
   "cell_type": "code",
   "execution_count": 35,
   "id": "c5fbe9d8",
   "metadata": {},
   "outputs": [
    {
     "ename": "NameError",
     "evalue": "name 'NORMAL_WAN3_DIR' is not defined",
     "output_type": "error",
     "traceback": [
      "\u001b[0;31m---------------------------------------------------------------------------\u001b[0m",
      "\u001b[0;31mNameError\u001b[0m                                 Traceback (most recent call last)",
      "Cell \u001b[0;32mIn[35], line 5\u001b[0m\n\u001b[1;32m      3\u001b[0m wan3_leader \u001b[38;5;241m=\u001b[39m \u001b[38;5;241m3\u001b[39m\n\u001b[1;32m      4\u001b[0m \u001b[38;5;66;03m#all_series = read_normal_dir(all_series, NORMAL_WAN3_DIR, wan3_leader)\u001b[39;00m\n\u001b[0;32m----> 5\u001b[0m read_normal_dir(all_wan_series, \u001b[43mNORMAL_WAN3_DIR\u001b[49m, wan3_leader)\n\u001b[1;32m      6\u001b[0m \u001b[38;5;66;03m#print(all_series)\u001b[39;00m\n\u001b[1;32m      8\u001b[0m wan5_leader \u001b[38;5;241m=\u001b[39m \u001b[38;5;241m5\u001b[39m\n",
      "\u001b[0;31mNameError\u001b[0m: name 'NORMAL_WAN3_DIR' is not defined"
     ]
    }
   ],
   "source": [
    "all_wan_series = get_empty_dict_normal()\n",
    "#print(all_series)\n",
    "wan3_leader = 3\n",
    "#all_series = read_normal_dir(all_series, NORMAL_WAN3_DIR, wan3_leader)\n",
    "read_normal_dir(all_wan_series, NORMAL_WAN3_DIR, wan3_leader)\n",
    "#print(all_series)\n",
    "\n",
    "wan5_leader = 5\n",
    "#all_series = read_normal_dir(all_series, NORMAL_WAN5_DIR, wan5_leader)\n",
    "read_normal_dir(all_wan_series, NORMAL_WAN5_DIR, wan5_leader)\n",
    "plot_normal(all_wan_series)"
   ]
  },
  {
   "cell_type": "markdown",
   "id": "f7f2931f",
   "metadata": {},
   "source": [
    "# Reconfiguration"
   ]
  },
  {
   "cell_type": "code",
   "execution_count": 36,
   "id": "2955b247",
   "metadata": {},
   "outputs": [],
   "source": [
    "WINDOW_DURATION = 5\n",
    "PLOT_CI = True"
   ]
  },
  {
   "cell_type": "code",
   "execution_count": 37,
   "id": "c22fb40e",
   "metadata": {},
   "outputs": [],
   "source": [
    "def get_label_and_color(filename):\n",
    "    csv = filename.split(\",\")\n",
    "    algorithm = csv[0]\n",
    "    if algorithm == \"paxos\":\n",
    "        algorithm = \"Omni-Paxos\"\n",
    "    else:\n",
    "        algorithm = \"Raft\"\n",
    "    reconfig = csv[5]\n",
    "    if reconfig == \"none\":\n",
    "        label = algorithm\n",
    "    else:\n",
    "        label = \"{} {}\".format(algorithm, reconfig.replace(\"-\", \" \"))\n",
    "    color = colors[label]\n",
    "    return (label, color)\n",
    "\n",
    "def get_linestyle_and_marker(label):\n",
    "    split = label.split(\" \", 1)\n",
    "    algo = split[0]\n",
    "    duration = split[1]\n",
    "    linestyle = linestyles[algo]\n",
    "    marker = markers[duration]\n",
    "    return (linestyle, marker)"
   ]
  },
  {
   "cell_type": "code",
   "execution_count": 38,
   "id": "64202592",
   "metadata": {},
   "outputs": [],
   "source": [
    "y_axis = np.arange(0, 170000, 25000)\n",
    "\n",
    "def plot_tp_windows(p, sub_dir, show_legend):\n",
    "    max_ts = 0\n",
    "    #print(p)\n",
    "    p = '{}/{}/{}'.format(p, sub_dir, 'windowed')\n",
    "    data_files = [f for f in os.listdir(p) if f.endswith('.data') and 'replace' in f]\n",
    "    data_files.sort()\n",
    "    for filename in data_files:\n",
    "        f = open(p + \"/\" + filename, 'r')\n",
    "        print(\"Reading\", filename, \"...\")\n",
    "        all_tp = []\n",
    "        for line in f:\n",
    "            \n",
    "            #splitted = line.split('|')\n",
    "            #assert len(splitted) == 2 # windows and number of warmup windows\n",
    "            #num_decided_per_window = splitted[0].split(\",\")\n",
    "            \n",
    "            num_decided_per_window = line.split(\",\")\n",
    "            #if filename != \"raft,5,50000,20000000,majority,replace-follower.data\":\n",
    "                #del num_decided_per_window[-5:]\n",
    "            if len(num_decided_per_window) < 2:\n",
    "                continue\n",
    "            for window_idx, num_decided in enumerate(num_decided_per_window):\n",
    "                if num_decided.isdigit():\n",
    "                    tp = int(num_decided) / WINDOW_DURATION\n",
    "                    if len(all_tp) <= window_idx:\n",
    "                        all_tp.append([])\n",
    "                    all_tp[window_idx].append(tp)\n",
    "\n",
    "        all_ts = []\n",
    "        all_avg_tp = []\n",
    "        all_ci95_lo = []\n",
    "        all_ci95_hi = []\n",
    "\n",
    "        all_min_tp = []\n",
    "        all_max_tp = []\n",
    "\n",
    "        all_tp_filtered = list(filter(lambda x: len(x) == 10, all_tp))\n",
    "        #print(len(all_tp_filtered))\n",
    "        for (window_idx, all_tp_per_window) in enumerate(all_tp_filtered):\n",
    "            ts = (window_idx+1) * WINDOW_DURATION\n",
    "            if ts > max_ts:\n",
    "                max_ts = ts\n",
    "            all_ts.append(ts)\n",
    "            #all_ts.append(format_time(seconds=(i+1) * WINDOW_DURATION))\n",
    "            avg_tp = sum(all_tp_per_window)/len(all_tp_per_window)\n",
    "            all_avg_tp.append(avg_tp)\n",
    "\n",
    "            min_tp = min(all_tp_per_window)\n",
    "            max_tp = max(all_tp_per_window)\n",
    "            all_min_tp.append(min_tp)\n",
    "            all_max_tp.append(max_tp)\n",
    "            \n",
    "            if PLOT_CI:\n",
    "                if (sum(all_tp_per_window) > 0 and len(all_tp_per_window) > 1):\n",
    "                    (ci95_lo, ci95_hi) = student_t_ci(all_tp_per_window)\n",
    "                    if ci95_lo < 0:\n",
    "                        ci95_lo = 0\n",
    "                    all_ci95_lo.append(ci95_lo)\n",
    "                    all_ci95_hi.append(ci95_hi)\n",
    "                else:\n",
    "                    all_ci95_lo.append(all_tp_per_window[0])\n",
    "                    all_ci95_hi.append(all_tp_per_window[0])\n",
    "                    \n",
    "        (label, color) = get_label_and_color(filename)\n",
    "        (linestyle, marker) = get_linestyle_and_marker(label)\n",
    "        plt.plot(all_ts, np.array(all_avg_tp), color=color, label=label, linestyle=linestyle, marker=marker),\n",
    "        if PLOT_CI:\n",
    "            plt.fill_between(all_ts, all_ci95_lo, all_ci95_hi, color=color, alpha=0.2)\n",
    "   \n",
    "    ax = plt.gca()\n",
    "    MEDIUM_SIZE = 18\n",
    "    x_axis = np.arange(0, max_ts+4*WINDOW_DURATION, 4*WINDOW_DURATION)\n",
    "\n",
    "    for item in ([ax.title, ax.xaxis.label, ax.yaxis.label] +\n",
    "                 ax.get_xticklabels() + ax.get_yticklabels()):\n",
    "        item.set_fontsize(MEDIUM_SIZE)\n",
    "\n",
    "    if show_legend:\n",
    "        ax.legend(loc = \"upper center\", fontsize=8, ncol=2)\n",
    "\n",
    "        \n",
    "    plt.xlabel(\"Time\")\n",
    "    plt.xticks(x_axis)\n",
    "    plt.yticks(y_axis)\n",
    "    #plt.ylim(top=165000)\n",
    "    \n",
    "    ax.xaxis.set_major_formatter(format_time)\n",
    "    ax.yaxis.set_major_formatter(format_k)\n",
    "\n",
    "    plt.ylim(bottom=0)\n",
    "    plt.gcf().autofmt_xdate()\n",
    "    plt.ylabel(\"Throughput (ops/s)\")"
   ]
  },
  {
   "cell_type": "markdown",
   "id": "f564a77e",
   "metadata": {},
   "source": [
    "## Reconfiguration - Single server, CP=500 [E5] <a id='reconfig-single-500'></a>"
   ]
  },
  {
   "cell_type": "code",
   "execution_count": 39,
   "id": "8c216493",
   "metadata": {},
   "outputs": [],
   "source": [
    "# Insert path to directory in meta_results here\n",
    "# Example:\n",
    "# RECONFIG_SINGLE_CP500 = \"/home/username/omnipaxos-artifacts/meta_results/reconfig\"\n",
    "RECONFIG_SINGLE_CP500 = \"/Users/haraldng/Library/CloudStorage/Dropbox/google-cloud/revision/reconfig-windows\"\n",
    "SHOW_LEGEND = True"
   ]
  },
  {
   "cell_type": "code",
   "execution_count": 40,
   "id": "9df60a9a",
   "metadata": {},
   "outputs": [
    {
     "name": "stdout",
     "output_type": "stream",
     "text": [
      "Reading paxos,5,500,20000000,majority,replace-follower.data ...\n"
     ]
    },
    {
     "ename": "KeyError",
     "evalue": "'Omni-Paxos replace follower.data'",
     "output_type": "error",
     "traceback": [
      "\u001b[0;31m---------------------------------------------------------------------------\u001b[0m",
      "\u001b[0;31mKeyError\u001b[0m                                  Traceback (most recent call last)",
      "Cell \u001b[0;32mIn[40], line 2\u001b[0m\n\u001b[1;32m      1\u001b[0m sub_dir \u001b[38;5;241m=\u001b[39m \u001b[38;5;124m\"\u001b[39m\u001b[38;5;124m5-500-single\u001b[39m\u001b[38;5;124m\"\u001b[39m\n\u001b[0;32m----> 2\u001b[0m \u001b[43mplot_tp_windows\u001b[49m\u001b[43m(\u001b[49m\u001b[43mRECONFIG_SINGLE_CP500\u001b[49m\u001b[43m,\u001b[49m\u001b[43m \u001b[49m\u001b[43msub_dir\u001b[49m\u001b[43m,\u001b[49m\u001b[43m \u001b[49m\u001b[43mSHOW_LEGEND\u001b[49m\u001b[43m)\u001b[49m\n",
      "Cell \u001b[0;32mIn[38], line 66\u001b[0m, in \u001b[0;36mplot_tp_windows\u001b[0;34m(p, sub_dir, show_legend)\u001b[0m\n\u001b[1;32m     63\u001b[0m             all_ci95_lo\u001b[38;5;241m.\u001b[39mappend(all_tp_per_window[\u001b[38;5;241m0\u001b[39m])\n\u001b[1;32m     64\u001b[0m             all_ci95_hi\u001b[38;5;241m.\u001b[39mappend(all_tp_per_window[\u001b[38;5;241m0\u001b[39m])\n\u001b[0;32m---> 66\u001b[0m (label, color) \u001b[38;5;241m=\u001b[39m \u001b[43mget_label_and_color\u001b[49m\u001b[43m(\u001b[49m\u001b[43mfilename\u001b[49m\u001b[43m)\u001b[49m\n\u001b[1;32m     67\u001b[0m (linestyle, marker) \u001b[38;5;241m=\u001b[39m get_linestyle_and_marker(label)\n\u001b[1;32m     68\u001b[0m plt\u001b[38;5;241m.\u001b[39mplot(all_ts, np\u001b[38;5;241m.\u001b[39marray(all_avg_tp), color\u001b[38;5;241m=\u001b[39mcolor, label\u001b[38;5;241m=\u001b[39mlabel, linestyle\u001b[38;5;241m=\u001b[39mlinestyle, marker\u001b[38;5;241m=\u001b[39mmarker),\n",
      "Cell \u001b[0;32mIn[37], line 13\u001b[0m, in \u001b[0;36mget_label_and_color\u001b[0;34m(filename)\u001b[0m\n\u001b[1;32m     11\u001b[0m \u001b[38;5;28;01melse\u001b[39;00m:\n\u001b[1;32m     12\u001b[0m     label \u001b[38;5;241m=\u001b[39m \u001b[38;5;124m\"\u001b[39m\u001b[38;5;132;01m{}\u001b[39;00m\u001b[38;5;124m \u001b[39m\u001b[38;5;132;01m{}\u001b[39;00m\u001b[38;5;124m\"\u001b[39m\u001b[38;5;241m.\u001b[39mformat(algorithm, reconfig\u001b[38;5;241m.\u001b[39mreplace(\u001b[38;5;124m\"\u001b[39m\u001b[38;5;124m-\u001b[39m\u001b[38;5;124m\"\u001b[39m, \u001b[38;5;124m\"\u001b[39m\u001b[38;5;124m \u001b[39m\u001b[38;5;124m\"\u001b[39m))\n\u001b[0;32m---> 13\u001b[0m color \u001b[38;5;241m=\u001b[39m \u001b[43mcolors\u001b[49m\u001b[43m[\u001b[49m\u001b[43mlabel\u001b[49m\u001b[43m]\u001b[49m\n\u001b[1;32m     14\u001b[0m \u001b[38;5;28;01mreturn\u001b[39;00m (label, color)\n",
      "\u001b[0;31mKeyError\u001b[0m: 'Omni-Paxos replace follower.data'"
     ]
    }
   ],
   "source": [
    "sub_dir = \"5-500-single\"\n",
    "plot_tp_windows(RECONFIG_SINGLE_CP500, sub_dir, SHOW_LEGEND)"
   ]
  },
  {
   "cell_type": "markdown",
   "id": "528c361a",
   "metadata": {},
   "source": [
    "## Reconfiguration - Single server, CP=50k [E5] <a id='reconfig-single-50k'></a>"
   ]
  },
  {
   "cell_type": "code",
   "execution_count": 41,
   "id": "fa453912",
   "metadata": {},
   "outputs": [
    {
     "ename": "SyntaxError",
     "evalue": "invalid syntax (672743946.py, line 4)",
     "output_type": "error",
     "traceback": [
      "\u001b[0;36m  Cell \u001b[0;32mIn[41], line 4\u001b[0;36m\u001b[0m\n\u001b[0;31m    RECONFIG_SINGLE_CP50K = # INSERT PATH HERE\u001b[0m\n\u001b[0m                            ^\u001b[0m\n\u001b[0;31mSyntaxError\u001b[0m\u001b[0;31m:\u001b[0m invalid syntax\n"
     ]
    }
   ],
   "source": [
    "# Insert path to directory in meta_results here\n",
    "# Example:\n",
    "# RECONFIG_SINGLE_CP50K = \"/home/username/omnipaxos-artifacts/meta_results/reconfig\"\n",
    "RECONFIG_SINGLE_CP50K = # INSERT PATH HERE\n",
    "SHOW_LEGEND = False"
   ]
  },
  {
   "cell_type": "code",
   "execution_count": 42,
   "id": "d76ce006",
   "metadata": {},
   "outputs": [
    {
     "ename": "NameError",
     "evalue": "name 'RECONFIG_SINGLE_CP50K' is not defined",
     "output_type": "error",
     "traceback": [
      "\u001b[0;31m---------------------------------------------------------------------------\u001b[0m",
      "\u001b[0;31mNameError\u001b[0m                                 Traceback (most recent call last)",
      "Cell \u001b[0;32mIn[42], line 2\u001b[0m\n\u001b[1;32m      1\u001b[0m sub_dir \u001b[38;5;241m=\u001b[39m \u001b[38;5;124m\"\u001b[39m\u001b[38;5;124m5-50000-single\u001b[39m\u001b[38;5;124m\"\u001b[39m\n\u001b[0;32m----> 2\u001b[0m plot_tp_windows(\u001b[43mRECONFIG_SINGLE_CP50K\u001b[49m, sub_dir, SHOW_LEGEND)\n",
      "\u001b[0;31mNameError\u001b[0m: name 'RECONFIG_SINGLE_CP50K' is not defined"
     ]
    }
   ],
   "source": [
    "sub_dir = \"5-50000-single\"\n",
    "plot_tp_windows(RECONFIG_SINGLE_CP50K, sub_dir, SHOW_LEGEND)"
   ]
  },
  {
   "cell_type": "markdown",
   "id": "0e8a0527",
   "metadata": {},
   "source": [
    "## Reconfiguration - Majority, CP=50k [E5] <a id='reconfig-majority-50k'></a>"
   ]
  },
  {
   "cell_type": "code",
   "execution_count": 43,
   "id": "104ce5fe",
   "metadata": {},
   "outputs": [
    {
     "ename": "SyntaxError",
     "evalue": "invalid syntax (438554129.py, line 4)",
     "output_type": "error",
     "traceback": [
      "\u001b[0;36m  Cell \u001b[0;32mIn[43], line 4\u001b[0;36m\u001b[0m\n\u001b[0;31m    RECONFIG_MAJORITY_CP50K = # INSERT PATH HERE\u001b[0m\n\u001b[0m                              ^\u001b[0m\n\u001b[0;31mSyntaxError\u001b[0m\u001b[0;31m:\u001b[0m invalid syntax\n"
     ]
    }
   ],
   "source": [
    "# Insert path to directory in meta_results here\n",
    "# Example:\n",
    "# RECONFIG_MAJORITY_CP50K = \"/home/username/omnipaxos-artifacts/meta_results/reconfig\"\n",
    "RECONFIG_MAJORITY_CP50K = # INSERT PATH HERE\n",
    "SHOW_LEGEND = False"
   ]
  },
  {
   "cell_type": "code",
   "execution_count": 44,
   "id": "2b283648",
   "metadata": {},
   "outputs": [
    {
     "ename": "NameError",
     "evalue": "name 'RECONFIG_MAJORITY_CP50K' is not defined",
     "output_type": "error",
     "traceback": [
      "\u001b[0;31m---------------------------------------------------------------------------\u001b[0m",
      "\u001b[0;31mNameError\u001b[0m                                 Traceback (most recent call last)",
      "Cell \u001b[0;32mIn[44], line 2\u001b[0m\n\u001b[1;32m      1\u001b[0m sub_dir \u001b[38;5;241m=\u001b[39m \u001b[38;5;124m\"\u001b[39m\u001b[38;5;124m5-50000-majority\u001b[39m\u001b[38;5;124m\"\u001b[39m\n\u001b[0;32m----> 2\u001b[0m plot_tp_windows(\u001b[43mRECONFIG_MAJORITY_CP50K\u001b[49m, sub_dir, SHOW_LEGEND)\n",
      "\u001b[0;31mNameError\u001b[0m: name 'RECONFIG_MAJORITY_CP50K' is not defined"
     ]
    }
   ],
   "source": [
    "sub_dir = \"5-50000-majority\"\n",
    "plot_tp_windows(RECONFIG_MAJORITY_CP50K, sub_dir, SHOW_LEGEND)"
   ]
  }
 ],
 "metadata": {
  "kernelspec": {
   "display_name": "Python 3 (ipykernel)",
   "language": "python",
   "name": "python3"
  },
  "language_info": {
   "codemirror_mode": {
    "name": "ipython",
    "version": 3
   },
   "file_extension": ".py",
   "mimetype": "text/x-python",
   "name": "python",
   "nbconvert_exporter": "python",
   "pygments_lexer": "ipython3",
   "version": "3.8.11"
  }
 },
 "nbformat": 4,
 "nbformat_minor": 5
}
